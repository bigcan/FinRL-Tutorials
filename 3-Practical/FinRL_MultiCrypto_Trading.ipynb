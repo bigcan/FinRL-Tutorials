{
  "cells": [
    {
      "cell_type": "markdown",
      "metadata": {
        "id": "QZT0OMHEnOYv"
      },
      "source": [
        "<a target=\"_blank\" href=\"https://colab.research.google.com/github/AI4Finance-Foundation/FinRL-Tutorials/blob/master/3-Practical/FinRL_MultiCrypto_Trading.ipynb\">\n",
        "  <img src=\"https://colab.research.google.com/assets/colab-badge.svg\" alt=\"Open In Colab\"/>\n",
        "</a>"
      ]
    },
    {
      "cell_type": "markdown",
      "metadata": {
        "id": "Yl3liTlqF2tZ"
      },
      "source": [
        "# Multiple Cryptocurrencies Trading Demo"
      ]
    },
    {
      "cell_type": "markdown",
      "metadata": {
        "id": "Ph-kT4laFy5k"
      },
      "source": [
        "## Installation"
      ]
    },
    {
      "cell_type": "code",
      "execution_count": 1,
      "metadata": {
        "colab": {
          "base_uri": "https://localhost:8080/",
          "height": 1000
        },
        "id": "GfKfNSTnEqsq",
        "outputId": "df504741-40cf-4c06-dbc7-640d32485c1e",
        "pycharm": {
          "is_executing": true
        }
      },
      "outputs": [
        {
          "output_type": "stream",
          "name": "stdout",
          "text": [
            "/\n",
            "Cloning into 'FinRL-Meta'...\n",
            "remote: Enumerating objects: 8209, done.\u001b[K\n",
            "remote: Counting objects: 100% (1171/1171), done.\u001b[K\n",
            "remote: Compressing objects: 100% (229/229), done.\u001b[K\n",
            "remote: Total 8209 (delta 1019), reused 942 (delta 942), pack-reused 7038 (from 2)\u001b[K\n",
            "Receiving objects: 100% (8209/8209), 172.66 MiB | 17.01 MiB/s, done.\n",
            "Resolving deltas: 100% (4834/4834), done.\n",
            "Updating files: 100% (424/424), done.\n",
            "/FinRL-Meta\n",
            "Collecting git+https://github.com/AI4Finance-Foundation/ElegantRL.git\n",
            "  Cloning https://github.com/AI4Finance-Foundation/ElegantRL.git to /tmp/pip-req-build-as9m0dsx\n",
            "  Running command git clone --filter=blob:none --quiet https://github.com/AI4Finance-Foundation/ElegantRL.git /tmp/pip-req-build-as9m0dsx\n",
            "  Resolved https://github.com/AI4Finance-Foundation/ElegantRL.git to commit 37aac1f592e1add9f9fd37ae8db1094656009b76\n",
            "  Preparing metadata (setup.py) ... \u001b[?25l\u001b[?25hdone\n",
            "Collecting th (from ElegantRL==0.3.10)\n",
            "  Downloading th-0.4.1-py3-none-any.whl.metadata (3.4 kB)\n",
            "Requirement already satisfied: numpy in /usr/local/lib/python3.12/dist-packages (from ElegantRL==0.3.10) (2.0.2)\n",
            "Requirement already satisfied: gymnasium in /usr/local/lib/python3.12/dist-packages (from ElegantRL==0.3.10) (1.2.0)\n",
            "Requirement already satisfied: matplotlib in /usr/local/lib/python3.12/dist-packages (from ElegantRL==0.3.10) (3.10.0)\n",
            "Requirement already satisfied: cloudpickle>=1.2.0 in /usr/local/lib/python3.12/dist-packages (from gymnasium->ElegantRL==0.3.10) (3.1.1)\n",
            "Requirement already satisfied: typing-extensions>=4.3.0 in /usr/local/lib/python3.12/dist-packages (from gymnasium->ElegantRL==0.3.10) (4.14.1)\n",
            "Requirement already satisfied: farama-notifications>=0.0.1 in /usr/local/lib/python3.12/dist-packages (from gymnasium->ElegantRL==0.3.10) (0.0.4)\n",
            "Requirement already satisfied: contourpy>=1.0.1 in /usr/local/lib/python3.12/dist-packages (from matplotlib->ElegantRL==0.3.10) (1.3.3)\n",
            "Requirement already satisfied: cycler>=0.10 in /usr/local/lib/python3.12/dist-packages (from matplotlib->ElegantRL==0.3.10) (0.12.1)\n",
            "Requirement already satisfied: fonttools>=4.22.0 in /usr/local/lib/python3.12/dist-packages (from matplotlib->ElegantRL==0.3.10) (4.59.1)\n",
            "Requirement already satisfied: kiwisolver>=1.3.1 in /usr/local/lib/python3.12/dist-packages (from matplotlib->ElegantRL==0.3.10) (1.4.9)\n",
            "Requirement already satisfied: packaging>=20.0 in /usr/local/lib/python3.12/dist-packages (from matplotlib->ElegantRL==0.3.10) (25.0)\n",
            "Requirement already satisfied: pillow>=8 in /usr/local/lib/python3.12/dist-packages (from matplotlib->ElegantRL==0.3.10) (11.3.0)\n",
            "Requirement already satisfied: pyparsing>=2.3.1 in /usr/local/lib/python3.12/dist-packages (from matplotlib->ElegantRL==0.3.10) (3.2.3)\n",
            "Requirement already satisfied: python-dateutil>=2.7 in /usr/local/lib/python3.12/dist-packages (from matplotlib->ElegantRL==0.3.10) (2.9.0.post0)\n",
            "Collecting niltype<2.0,>=0.3 (from th->ElegantRL==0.3.10)\n",
            "  Downloading niltype-1.0.2-py3-none-any.whl.metadata (4.3 kB)\n",
            "Requirement already satisfied: six>=1.5 in /usr/local/lib/python3.12/dist-packages (from python-dateutil>=2.7->matplotlib->ElegantRL==0.3.10) (1.17.0)\n",
            "Downloading th-0.4.1-py3-none-any.whl (12 kB)\n",
            "Downloading niltype-1.0.2-py3-none-any.whl (5.3 kB)\n",
            "Building wheels for collected packages: ElegantRL\n",
            "  Building wheel for ElegantRL (setup.py) ... \u001b[?25l\u001b[?25hdone\n",
            "  Created wheel for ElegantRL: filename=ElegantRL-0.3.10-py3-none-any.whl size=499839 sha256=c75d433ef4317c99295c2b1c31cece516641cc73fe7ca161cafca5d16060ea69\n",
            "  Stored in directory: /tmp/pip-ephem-wheel-cache-rxmyf405/wheels/9c/5b/ab/08c31d65e0f7222036d6205228911a64df4db0c13eea32f11a\n",
            "Successfully built ElegantRL\n",
            "Installing collected packages: niltype, th, ElegantRL\n",
            "Successfully installed ElegantRL-0.3.10 niltype-1.0.2 th-0.4.1\n",
            "Collecting wrds\n",
            "  Downloading wrds-3.4.0-py3-none-any.whl.metadata (5.7 kB)\n",
            "Collecting packaging<=24.2 (from wrds)\n",
            "  Downloading packaging-24.2-py3-none-any.whl.metadata (3.2 kB)\n",
            "Requirement already satisfied: pandas<2.3,>=2.2 in /usr/local/lib/python3.12/dist-packages (from wrds) (2.2.2)\n",
            "Collecting psycopg2-binary<2.10,>=2.9 (from wrds)\n",
            "  Downloading psycopg2_binary-2.9.10-cp312-cp312-manylinux_2_17_x86_64.manylinux2014_x86_64.whl.metadata (4.9 kB)\n",
            "Requirement already satisfied: sqlalchemy<2.1,>=2 in /usr/local/lib/python3.12/dist-packages (from wrds) (2.0.43)\n",
            "Requirement already satisfied: numpy>=1.26.0 in /usr/local/lib/python3.12/dist-packages (from pandas<2.3,>=2.2->wrds) (2.0.2)\n",
            "Requirement already satisfied: python-dateutil>=2.8.2 in /usr/local/lib/python3.12/dist-packages (from pandas<2.3,>=2.2->wrds) (2.9.0.post0)\n",
            "Requirement already satisfied: pytz>=2020.1 in /usr/local/lib/python3.12/dist-packages (from pandas<2.3,>=2.2->wrds) (2025.2)\n",
            "Requirement already satisfied: tzdata>=2022.7 in /usr/local/lib/python3.12/dist-packages (from pandas<2.3,>=2.2->wrds) (2025.2)\n",
            "Requirement already satisfied: greenlet>=1 in /usr/local/lib/python3.12/dist-packages (from sqlalchemy<2.1,>=2->wrds) (3.2.4)\n",
            "Requirement already satisfied: typing-extensions>=4.6.0 in /usr/local/lib/python3.12/dist-packages (from sqlalchemy<2.1,>=2->wrds) (4.14.1)\n",
            "Requirement already satisfied: six>=1.5 in /usr/local/lib/python3.12/dist-packages (from python-dateutil>=2.8.2->pandas<2.3,>=2.2->wrds) (1.17.0)\n",
            "Downloading wrds-3.4.0-py3-none-any.whl (14 kB)\n",
            "Downloading packaging-24.2-py3-none-any.whl (65 kB)\n",
            "\u001b[2K   \u001b[90m━━━━━━━━━━━━━━━━━━━━━━━━━━━━━━━━━━━━━━━━\u001b[0m \u001b[32m65.5/65.5 kB\u001b[0m \u001b[31m2.8 MB/s\u001b[0m eta \u001b[36m0:00:00\u001b[0m\n",
            "\u001b[?25hDownloading psycopg2_binary-2.9.10-cp312-cp312-manylinux_2_17_x86_64.manylinux2014_x86_64.whl (3.0 MB)\n",
            "\u001b[2K   \u001b[90m━━━━━━━━━━━━━━━━━━━━━━━━━━━━━━━━━━━━━━━━\u001b[0m \u001b[32m3.0/3.0 MB\u001b[0m \u001b[31m49.0 MB/s\u001b[0m eta \u001b[36m0:00:00\u001b[0m\n",
            "\u001b[?25hInstalling collected packages: psycopg2-binary, packaging, wrds\n",
            "  Attempting uninstall: packaging\n",
            "    Found existing installation: packaging 25.0\n",
            "    Uninstalling packaging-25.0:\n",
            "      Successfully uninstalled packaging-25.0\n",
            "Successfully installed packaging-24.2 psycopg2-binary-2.9.10 wrds-3.4.0\n"
          ]
        },
        {
          "output_type": "display_data",
          "data": {
            "application/vnd.colab-display-data+json": {
              "pip_warning": {
                "packages": [
                  "packaging"
                ]
              },
              "id": "11cdde6883754a0bbff6f6c07b5583e2"
            }
          },
          "metadata": {}
        },
        {
          "output_type": "stream",
          "name": "stdout",
          "text": [
            "Collecting swig\n",
            "  Downloading swig-4.3.1-py3-none-manylinux_2_12_x86_64.manylinux2010_x86_64.whl.metadata (3.5 kB)\n",
            "Downloading swig-4.3.1-py3-none-manylinux_2_12_x86_64.manylinux2010_x86_64.whl (1.9 MB)\n",
            "\u001b[?25l   \u001b[90m━━━━━━━━━━━━━━━━━━━━━━━━━━━━━━━━━━━━━━━━\u001b[0m \u001b[32m0.0/1.9 MB\u001b[0m \u001b[31m?\u001b[0m eta \u001b[36m-:--:--\u001b[0m\r\u001b[2K   \u001b[91m━━━━━━━━━━━━━━━━━━\u001b[0m\u001b[91m╸\u001b[0m\u001b[90m━━━━━━━━━━━━━━━━━━━━━\u001b[0m \u001b[32m0.9/1.9 MB\u001b[0m \u001b[31m27.1 MB/s\u001b[0m eta \u001b[36m0:00:01\u001b[0m\r\u001b[2K   \u001b[90m━━━━━━━━━━━━━━━━━━━━━━━━━━━━━━━━━━━━━━━━\u001b[0m \u001b[32m1.9/1.9 MB\u001b[0m \u001b[31m33.7 MB/s\u001b[0m eta \u001b[36m0:00:00\u001b[0m\n",
            "\u001b[?25hInstalling collected packages: swig\n",
            "Successfully installed swig-4.3.1\n"
          ]
        },
        {
          "output_type": "error",
          "ename": "KeyboardInterrupt",
          "evalue": "",
          "traceback": [
            "\u001b[0;31m---------------------------------------------------------------------------\u001b[0m",
            "\u001b[0;31mKeyboardInterrupt\u001b[0m                         Traceback (most recent call last)",
            "\u001b[0;32m/tmp/ipython-input-1740299875.py\u001b[0m in \u001b[0;36m<cell line: 0>\u001b[0;34m()\u001b[0m\n\u001b[1;32m      5\u001b[0m \u001b[0mget_ipython\u001b[0m\u001b[0;34m(\u001b[0m\u001b[0;34m)\u001b[0m\u001b[0;34m.\u001b[0m\u001b[0msystem\u001b[0m\u001b[0;34m(\u001b[0m\u001b[0;34m'pip install wrds'\u001b[0m\u001b[0;34m)\u001b[0m\u001b[0;34m\u001b[0m\u001b[0;34m\u001b[0m\u001b[0m\n\u001b[1;32m      6\u001b[0m \u001b[0mget_ipython\u001b[0m\u001b[0;34m(\u001b[0m\u001b[0;34m)\u001b[0m\u001b[0;34m.\u001b[0m\u001b[0msystem\u001b[0m\u001b[0;34m(\u001b[0m\u001b[0;34m'pip install swig'\u001b[0m\u001b[0;34m)\u001b[0m\u001b[0;34m\u001b[0m\u001b[0;34m\u001b[0m\u001b[0m\n\u001b[0;32m----> 7\u001b[0;31m \u001b[0mget_ipython\u001b[0m\u001b[0;34m(\u001b[0m\u001b[0;34m)\u001b[0m\u001b[0;34m.\u001b[0m\u001b[0msystem\u001b[0m\u001b[0;34m(\u001b[0m\u001b[0;34m'pip install -q condacolab'\u001b[0m\u001b[0;34m)\u001b[0m\u001b[0;34m\u001b[0m\u001b[0;34m\u001b[0m\u001b[0m\n\u001b[0m\u001b[1;32m      8\u001b[0m \u001b[0;32mimport\u001b[0m \u001b[0mcondacolab\u001b[0m\u001b[0;34m\u001b[0m\u001b[0;34m\u001b[0m\u001b[0m\n\u001b[1;32m      9\u001b[0m \u001b[0mcondacolab\u001b[0m\u001b[0;34m.\u001b[0m\u001b[0minstall\u001b[0m\u001b[0;34m(\u001b[0m\u001b[0;34m)\u001b[0m\u001b[0;34m\u001b[0m\u001b[0;34m\u001b[0m\u001b[0m\n",
            "\u001b[0;32m/usr/local/lib/python3.12/dist-packages/google/colab/_shell.py\u001b[0m in \u001b[0;36msystem\u001b[0;34m(self, *args, **kwargs)\u001b[0m\n\u001b[1;32m    150\u001b[0m \u001b[0;34m\u001b[0m\u001b[0m\n\u001b[1;32m    151\u001b[0m     \u001b[0;32mif\u001b[0m \u001b[0mpip_warn\u001b[0m\u001b[0;34m:\u001b[0m\u001b[0;34m\u001b[0m\u001b[0;34m\u001b[0m\u001b[0m\n\u001b[0;32m--> 152\u001b[0;31m       \u001b[0m_pip\u001b[0m\u001b[0;34m.\u001b[0m\u001b[0mprint_previous_import_warning\u001b[0m\u001b[0;34m(\u001b[0m\u001b[0moutput\u001b[0m\u001b[0;34m)\u001b[0m\u001b[0;34m\u001b[0m\u001b[0;34m\u001b[0m\u001b[0m\n\u001b[0m\u001b[1;32m    153\u001b[0m \u001b[0;34m\u001b[0m\u001b[0m\n\u001b[1;32m    154\u001b[0m   \u001b[0;32mdef\u001b[0m \u001b[0m_send_error\u001b[0m\u001b[0;34m(\u001b[0m\u001b[0mself\u001b[0m\u001b[0;34m,\u001b[0m \u001b[0mexc_content\u001b[0m\u001b[0;34m)\u001b[0m\u001b[0;34m:\u001b[0m\u001b[0;34m\u001b[0m\u001b[0;34m\u001b[0m\u001b[0m\n",
            "\u001b[0;32m/usr/local/lib/python3.12/dist-packages/google/colab/_pip.py\u001b[0m in \u001b[0;36mprint_previous_import_warning\u001b[0;34m(output)\u001b[0m\n\u001b[1;32m     54\u001b[0m \u001b[0;32mdef\u001b[0m \u001b[0mprint_previous_import_warning\u001b[0m\u001b[0;34m(\u001b[0m\u001b[0moutput\u001b[0m\u001b[0;34m)\u001b[0m\u001b[0;34m:\u001b[0m\u001b[0;34m\u001b[0m\u001b[0;34m\u001b[0m\u001b[0m\n\u001b[1;32m     55\u001b[0m   \u001b[0;34m\"\"\"Prints a warning about previously imported packages.\"\"\"\u001b[0m\u001b[0;34m\u001b[0m\u001b[0;34m\u001b[0m\u001b[0m\n\u001b[0;32m---> 56\u001b[0;31m   \u001b[0mpackages\u001b[0m \u001b[0;34m=\u001b[0m \u001b[0m_previously_imported_packages\u001b[0m\u001b[0;34m(\u001b[0m\u001b[0moutput\u001b[0m\u001b[0;34m)\u001b[0m\u001b[0;34m\u001b[0m\u001b[0;34m\u001b[0m\u001b[0m\n\u001b[0m\u001b[1;32m     57\u001b[0m   \u001b[0;32mif\u001b[0m \u001b[0mpackages\u001b[0m\u001b[0;34m:\u001b[0m\u001b[0;34m\u001b[0m\u001b[0;34m\u001b[0m\u001b[0m\n\u001b[1;32m     58\u001b[0m     \u001b[0;31m# display a list of packages using the colab-display-data mimetype, which\u001b[0m\u001b[0;34m\u001b[0m\u001b[0;34m\u001b[0m\u001b[0m\n",
            "\u001b[0;32m/usr/local/lib/python3.12/dist-packages/google/colab/_pip.py\u001b[0m in \u001b[0;36m_previously_imported_packages\u001b[0;34m(pip_output)\u001b[0m\n\u001b[1;32m     48\u001b[0m \u001b[0;32mdef\u001b[0m \u001b[0m_previously_imported_packages\u001b[0m\u001b[0;34m(\u001b[0m\u001b[0mpip_output\u001b[0m\u001b[0;34m)\u001b[0m\u001b[0;34m:\u001b[0m\u001b[0;34m\u001b[0m\u001b[0;34m\u001b[0m\u001b[0m\n\u001b[1;32m     49\u001b[0m   \u001b[0;34m\"\"\"List all previously imported packages from a pip install.\"\"\"\u001b[0m\u001b[0;34m\u001b[0m\u001b[0;34m\u001b[0m\u001b[0m\n\u001b[0;32m---> 50\u001b[0;31m   \u001b[0minstalled\u001b[0m \u001b[0;34m=\u001b[0m \u001b[0mset\u001b[0m\u001b[0;34m(\u001b[0m\u001b[0m_extract_toplevel_packages\u001b[0m\u001b[0;34m(\u001b[0m\u001b[0mpip_output\u001b[0m\u001b[0;34m)\u001b[0m\u001b[0;34m)\u001b[0m\u001b[0;34m\u001b[0m\u001b[0;34m\u001b[0m\u001b[0m\n\u001b[0m\u001b[1;32m     51\u001b[0m   \u001b[0;32mreturn\u001b[0m \u001b[0msorted\u001b[0m\u001b[0;34m(\u001b[0m\u001b[0minstalled\u001b[0m\u001b[0;34m.\u001b[0m\u001b[0mintersection\u001b[0m\u001b[0;34m(\u001b[0m\u001b[0mset\u001b[0m\u001b[0;34m(\u001b[0m\u001b[0msys\u001b[0m\u001b[0;34m.\u001b[0m\u001b[0mmodules\u001b[0m\u001b[0;34m)\u001b[0m\u001b[0;34m)\u001b[0m\u001b[0;34m)\u001b[0m\u001b[0;34m\u001b[0m\u001b[0;34m\u001b[0m\u001b[0m\n\u001b[1;32m     52\u001b[0m \u001b[0;34m\u001b[0m\u001b[0m\n",
            "\u001b[0;32m/usr/local/lib/python3.12/dist-packages/google/colab/_pip.py\u001b[0m in \u001b[0;36m_extract_toplevel_packages\u001b[0;34m(pip_output)\u001b[0m\n\u001b[1;32m     37\u001b[0m   \u001b[0;34m\"\"\"Extract the list of toplevel packages associated with a pip install.\"\"\"\u001b[0m\u001b[0;34m\u001b[0m\u001b[0;34m\u001b[0m\u001b[0m\n\u001b[1;32m     38\u001b[0m   \u001b[0mtoplevel\u001b[0m \u001b[0;34m=\u001b[0m \u001b[0mcollections\u001b[0m\u001b[0;34m.\u001b[0m\u001b[0mdefaultdict\u001b[0m\u001b[0;34m(\u001b[0m\u001b[0mset\u001b[0m\u001b[0;34m)\u001b[0m\u001b[0;34m\u001b[0m\u001b[0;34m\u001b[0m\u001b[0m\n\u001b[0;32m---> 39\u001b[0;31m   \u001b[0;32mfor\u001b[0m \u001b[0mm\u001b[0m\u001b[0;34m,\u001b[0m \u001b[0mps\u001b[0m \u001b[0;32min\u001b[0m \u001b[0mimportlib\u001b[0m\u001b[0;34m.\u001b[0m\u001b[0mmetadata\u001b[0m\u001b[0;34m.\u001b[0m\u001b[0mpackages_distributions\u001b[0m\u001b[0;34m(\u001b[0m\u001b[0;34m)\u001b[0m\u001b[0;34m.\u001b[0m\u001b[0mitems\u001b[0m\u001b[0;34m(\u001b[0m\u001b[0;34m)\u001b[0m\u001b[0;34m:\u001b[0m\u001b[0;34m\u001b[0m\u001b[0;34m\u001b[0m\u001b[0m\n\u001b[0m\u001b[1;32m     40\u001b[0m     \u001b[0;32mfor\u001b[0m \u001b[0mp\u001b[0m \u001b[0;32min\u001b[0m \u001b[0mps\u001b[0m\u001b[0;34m:\u001b[0m\u001b[0;34m\u001b[0m\u001b[0;34m\u001b[0m\u001b[0m\n\u001b[1;32m     41\u001b[0m       \u001b[0mtoplevel\u001b[0m\u001b[0;34m[\u001b[0m\u001b[0mp\u001b[0m\u001b[0;34m]\u001b[0m\u001b[0;34m.\u001b[0m\u001b[0madd\u001b[0m\u001b[0;34m(\u001b[0m\u001b[0mm\u001b[0m\u001b[0;34m)\u001b[0m\u001b[0;34m\u001b[0m\u001b[0;34m\u001b[0m\u001b[0m\n",
            "\u001b[0;32m/usr/lib/python3.12/importlib/metadata/__init__.py\u001b[0m in \u001b[0;36mpackages_distributions\u001b[0;34m()\u001b[0m\n\u001b[1;32m    945\u001b[0m     \u001b[0mpkg_to_dist\u001b[0m \u001b[0;34m=\u001b[0m \u001b[0mcollections\u001b[0m\u001b[0;34m.\u001b[0m\u001b[0mdefaultdict\u001b[0m\u001b[0;34m(\u001b[0m\u001b[0mlist\u001b[0m\u001b[0;34m)\u001b[0m\u001b[0;34m\u001b[0m\u001b[0;34m\u001b[0m\u001b[0m\n\u001b[1;32m    946\u001b[0m     \u001b[0;32mfor\u001b[0m \u001b[0mdist\u001b[0m \u001b[0;32min\u001b[0m \u001b[0mdistributions\u001b[0m\u001b[0;34m(\u001b[0m\u001b[0;34m)\u001b[0m\u001b[0;34m:\u001b[0m\u001b[0;34m\u001b[0m\u001b[0;34m\u001b[0m\u001b[0m\n\u001b[0;32m--> 947\u001b[0;31m         \u001b[0;32mfor\u001b[0m \u001b[0mpkg\u001b[0m \u001b[0;32min\u001b[0m \u001b[0m_top_level_declared\u001b[0m\u001b[0;34m(\u001b[0m\u001b[0mdist\u001b[0m\u001b[0;34m)\u001b[0m \u001b[0;32mor\u001b[0m \u001b[0m_top_level_inferred\u001b[0m\u001b[0;34m(\u001b[0m\u001b[0mdist\u001b[0m\u001b[0;34m)\u001b[0m\u001b[0;34m:\u001b[0m\u001b[0;34m\u001b[0m\u001b[0;34m\u001b[0m\u001b[0m\n\u001b[0m\u001b[1;32m    948\u001b[0m             \u001b[0mpkg_to_dist\u001b[0m\u001b[0;34m[\u001b[0m\u001b[0mpkg\u001b[0m\u001b[0;34m]\u001b[0m\u001b[0;34m.\u001b[0m\u001b[0mappend\u001b[0m\u001b[0;34m(\u001b[0m\u001b[0mdist\u001b[0m\u001b[0;34m.\u001b[0m\u001b[0mmetadata\u001b[0m\u001b[0;34m[\u001b[0m\u001b[0;34m'Name'\u001b[0m\u001b[0;34m]\u001b[0m\u001b[0;34m)\u001b[0m\u001b[0;34m\u001b[0m\u001b[0;34m\u001b[0m\u001b[0m\n\u001b[1;32m    949\u001b[0m     \u001b[0;32mreturn\u001b[0m \u001b[0mdict\u001b[0m\u001b[0;34m(\u001b[0m\u001b[0mpkg_to_dist\u001b[0m\u001b[0;34m)\u001b[0m\u001b[0;34m\u001b[0m\u001b[0;34m\u001b[0m\u001b[0m\n",
            "\u001b[0;32m/usr/lib/python3.12/importlib/metadata/__init__.py\u001b[0m in \u001b[0;36m_top_level_inferred\u001b[0;34m(dist)\u001b[0m\n\u001b[1;32m    957\u001b[0m     opt_names = {\n\u001b[1;32m    958\u001b[0m         \u001b[0mf\u001b[0m\u001b[0;34m.\u001b[0m\u001b[0mparts\u001b[0m\u001b[0;34m[\u001b[0m\u001b[0;36m0\u001b[0m\u001b[0;34m]\u001b[0m \u001b[0;32mif\u001b[0m \u001b[0mlen\u001b[0m\u001b[0;34m(\u001b[0m\u001b[0mf\u001b[0m\u001b[0;34m.\u001b[0m\u001b[0mparts\u001b[0m\u001b[0;34m)\u001b[0m \u001b[0;34m>\u001b[0m \u001b[0;36m1\u001b[0m \u001b[0;32melse\u001b[0m \u001b[0minspect\u001b[0m\u001b[0;34m.\u001b[0m\u001b[0mgetmodulename\u001b[0m\u001b[0;34m(\u001b[0m\u001b[0mf\u001b[0m\u001b[0;34m)\u001b[0m\u001b[0;34m\u001b[0m\u001b[0;34m\u001b[0m\u001b[0m\n\u001b[0;32m--> 959\u001b[0;31m         \u001b[0;32mfor\u001b[0m \u001b[0mf\u001b[0m \u001b[0;32min\u001b[0m \u001b[0malways_iterable\u001b[0m\u001b[0;34m(\u001b[0m\u001b[0mdist\u001b[0m\u001b[0;34m.\u001b[0m\u001b[0mfiles\u001b[0m\u001b[0;34m)\u001b[0m\u001b[0;34m\u001b[0m\u001b[0;34m\u001b[0m\u001b[0m\n\u001b[0m\u001b[1;32m    960\u001b[0m     }\n\u001b[1;32m    961\u001b[0m \u001b[0;34m\u001b[0m\u001b[0m\n",
            "\u001b[0;32m/usr/lib/python3.12/importlib/metadata/__init__.py\u001b[0m in \u001b[0;36mfiles\u001b[0;34m(self)\u001b[0m\n\u001b[1;32m    498\u001b[0m             \u001b[0;32mreturn\u001b[0m \u001b[0mlist\u001b[0m\u001b[0;34m(\u001b[0m\u001b[0mfilter\u001b[0m\u001b[0;34m(\u001b[0m\u001b[0;32mlambda\u001b[0m \u001b[0mpath\u001b[0m\u001b[0;34m:\u001b[0m \u001b[0mpath\u001b[0m\u001b[0;34m.\u001b[0m\u001b[0mlocate\u001b[0m\u001b[0;34m(\u001b[0m\u001b[0;34m)\u001b[0m\u001b[0;34m.\u001b[0m\u001b[0mexists\u001b[0m\u001b[0;34m(\u001b[0m\u001b[0;34m)\u001b[0m\u001b[0;34m,\u001b[0m \u001b[0mpackage_paths\u001b[0m\u001b[0;34m)\u001b[0m\u001b[0;34m)\u001b[0m\u001b[0;34m\u001b[0m\u001b[0;34m\u001b[0m\u001b[0m\n\u001b[1;32m    499\u001b[0m \u001b[0;34m\u001b[0m\u001b[0m\n\u001b[0;32m--> 500\u001b[0;31m         return skip_missing_files(\n\u001b[0m\u001b[1;32m    501\u001b[0m             make_files(\n\u001b[1;32m    502\u001b[0m                 \u001b[0mself\u001b[0m\u001b[0;34m.\u001b[0m\u001b[0m_read_files_distinfo\u001b[0m\u001b[0;34m(\u001b[0m\u001b[0;34m)\u001b[0m\u001b[0;34m\u001b[0m\u001b[0;34m\u001b[0m\u001b[0m\n",
            "\u001b[0;32m/usr/lib/python3.12/importlib/metadata/_functools.py\u001b[0m in \u001b[0;36mwrapper\u001b[0;34m(param, *args, **kwargs)\u001b[0m\n\u001b[1;32m    100\u001b[0m     \u001b[0;32mdef\u001b[0m \u001b[0mwrapper\u001b[0m\u001b[0;34m(\u001b[0m\u001b[0mparam\u001b[0m\u001b[0;34m,\u001b[0m \u001b[0;34m*\u001b[0m\u001b[0margs\u001b[0m\u001b[0;34m,\u001b[0m \u001b[0;34m**\u001b[0m\u001b[0mkwargs\u001b[0m\u001b[0;34m)\u001b[0m\u001b[0;34m:\u001b[0m\u001b[0;34m\u001b[0m\u001b[0;34m\u001b[0m\u001b[0m\n\u001b[1;32m    101\u001b[0m         \u001b[0;32mif\u001b[0m \u001b[0mparam\u001b[0m \u001b[0;32mis\u001b[0m \u001b[0;32mnot\u001b[0m \u001b[0;32mNone\u001b[0m\u001b[0;34m:\u001b[0m\u001b[0;34m\u001b[0m\u001b[0;34m\u001b[0m\u001b[0m\n\u001b[0;32m--> 102\u001b[0;31m             \u001b[0;32mreturn\u001b[0m \u001b[0mfunc\u001b[0m\u001b[0;34m(\u001b[0m\u001b[0mparam\u001b[0m\u001b[0;34m,\u001b[0m \u001b[0;34m*\u001b[0m\u001b[0margs\u001b[0m\u001b[0;34m,\u001b[0m \u001b[0;34m**\u001b[0m\u001b[0mkwargs\u001b[0m\u001b[0;34m)\u001b[0m\u001b[0;34m\u001b[0m\u001b[0;34m\u001b[0m\u001b[0m\n\u001b[0m\u001b[1;32m    103\u001b[0m \u001b[0;34m\u001b[0m\u001b[0m\n\u001b[1;32m    104\u001b[0m     \u001b[0;32mreturn\u001b[0m \u001b[0mwrapper\u001b[0m\u001b[0;34m\u001b[0m\u001b[0;34m\u001b[0m\u001b[0m\n",
            "\u001b[0;32m/usr/lib/python3.12/importlib/metadata/__init__.py\u001b[0m in \u001b[0;36mskip_missing_files\u001b[0;34m(package_paths)\u001b[0m\n\u001b[1;32m    496\u001b[0m         \u001b[0;34m@\u001b[0m\u001b[0mpass_none\u001b[0m\u001b[0;34m\u001b[0m\u001b[0;34m\u001b[0m\u001b[0m\n\u001b[1;32m    497\u001b[0m         \u001b[0;32mdef\u001b[0m \u001b[0mskip_missing_files\u001b[0m\u001b[0;34m(\u001b[0m\u001b[0mpackage_paths\u001b[0m\u001b[0;34m)\u001b[0m\u001b[0;34m:\u001b[0m\u001b[0;34m\u001b[0m\u001b[0;34m\u001b[0m\u001b[0m\n\u001b[0;32m--> 498\u001b[0;31m             \u001b[0;32mreturn\u001b[0m \u001b[0mlist\u001b[0m\u001b[0;34m(\u001b[0m\u001b[0mfilter\u001b[0m\u001b[0;34m(\u001b[0m\u001b[0;32mlambda\u001b[0m \u001b[0mpath\u001b[0m\u001b[0;34m:\u001b[0m \u001b[0mpath\u001b[0m\u001b[0;34m.\u001b[0m\u001b[0mlocate\u001b[0m\u001b[0;34m(\u001b[0m\u001b[0;34m)\u001b[0m\u001b[0;34m.\u001b[0m\u001b[0mexists\u001b[0m\u001b[0;34m(\u001b[0m\u001b[0;34m)\u001b[0m\u001b[0;34m,\u001b[0m \u001b[0mpackage_paths\u001b[0m\u001b[0;34m)\u001b[0m\u001b[0;34m)\u001b[0m\u001b[0;34m\u001b[0m\u001b[0;34m\u001b[0m\u001b[0m\n\u001b[0m\u001b[1;32m    499\u001b[0m \u001b[0;34m\u001b[0m\u001b[0m\n\u001b[1;32m    500\u001b[0m         return skip_missing_files(\n",
            "\u001b[0;32m/usr/lib/python3.12/importlib/metadata/__init__.py\u001b[0m in \u001b[0;36mmake_file\u001b[0;34m(name, hash, size_str)\u001b[0m\n\u001b[1;32m    484\u001b[0m \u001b[0;34m\u001b[0m\u001b[0m\n\u001b[1;32m    485\u001b[0m         \u001b[0;32mdef\u001b[0m \u001b[0mmake_file\u001b[0m\u001b[0;34m(\u001b[0m\u001b[0mname\u001b[0m\u001b[0;34m,\u001b[0m \u001b[0mhash\u001b[0m\u001b[0;34m=\u001b[0m\u001b[0;32mNone\u001b[0m\u001b[0;34m,\u001b[0m \u001b[0msize_str\u001b[0m\u001b[0;34m=\u001b[0m\u001b[0;32mNone\u001b[0m\u001b[0;34m)\u001b[0m\u001b[0;34m:\u001b[0m\u001b[0;34m\u001b[0m\u001b[0;34m\u001b[0m\u001b[0m\n\u001b[0;32m--> 486\u001b[0;31m             \u001b[0mresult\u001b[0m \u001b[0;34m=\u001b[0m \u001b[0mPackagePath\u001b[0m\u001b[0;34m(\u001b[0m\u001b[0mname\u001b[0m\u001b[0;34m)\u001b[0m\u001b[0;34m\u001b[0m\u001b[0;34m\u001b[0m\u001b[0m\n\u001b[0m\u001b[1;32m    487\u001b[0m             \u001b[0mresult\u001b[0m\u001b[0;34m.\u001b[0m\u001b[0mhash\u001b[0m \u001b[0;34m=\u001b[0m \u001b[0mFileHash\u001b[0m\u001b[0;34m(\u001b[0m\u001b[0mhash\u001b[0m\u001b[0;34m)\u001b[0m \u001b[0;32mif\u001b[0m \u001b[0mhash\u001b[0m \u001b[0;32melse\u001b[0m \u001b[0;32mNone\u001b[0m\u001b[0;34m\u001b[0m\u001b[0;34m\u001b[0m\u001b[0m\n\u001b[1;32m    488\u001b[0m             \u001b[0mresult\u001b[0m\u001b[0;34m.\u001b[0m\u001b[0msize\u001b[0m \u001b[0;34m=\u001b[0m \u001b[0mint\u001b[0m\u001b[0;34m(\u001b[0m\u001b[0msize_str\u001b[0m\u001b[0;34m)\u001b[0m \u001b[0;32mif\u001b[0m \u001b[0msize_str\u001b[0m \u001b[0;32melse\u001b[0m \u001b[0;32mNone\u001b[0m\u001b[0;34m\u001b[0m\u001b[0;34m\u001b[0m\u001b[0m\n",
            "\u001b[0;32m/usr/lib/python3.12/pathlib.py\u001b[0m in \u001b[0;36m__new__\u001b[0;34m(cls, *args, **kwargs)\u001b[0m\n\u001b[1;32m    349\u001b[0m         \u001b[0;32mif\u001b[0m \u001b[0mcls\u001b[0m \u001b[0;32mis\u001b[0m \u001b[0mPurePath\u001b[0m\u001b[0;34m:\u001b[0m\u001b[0;34m\u001b[0m\u001b[0;34m\u001b[0m\u001b[0m\n\u001b[1;32m    350\u001b[0m             \u001b[0mcls\u001b[0m \u001b[0;34m=\u001b[0m \u001b[0mPureWindowsPath\u001b[0m \u001b[0;32mif\u001b[0m \u001b[0mos\u001b[0m\u001b[0;34m.\u001b[0m\u001b[0mname\u001b[0m \u001b[0;34m==\u001b[0m \u001b[0;34m'nt'\u001b[0m \u001b[0;32melse\u001b[0m \u001b[0mPurePosixPath\u001b[0m\u001b[0;34m\u001b[0m\u001b[0;34m\u001b[0m\u001b[0m\n\u001b[0;32m--> 351\u001b[0;31m         \u001b[0;32mreturn\u001b[0m \u001b[0mobject\u001b[0m\u001b[0;34m.\u001b[0m\u001b[0m__new__\u001b[0m\u001b[0;34m(\u001b[0m\u001b[0mcls\u001b[0m\u001b[0;34m)\u001b[0m\u001b[0;34m\u001b[0m\u001b[0;34m\u001b[0m\u001b[0m\n\u001b[0m\u001b[1;32m    352\u001b[0m \u001b[0;34m\u001b[0m\u001b[0m\n\u001b[1;32m    353\u001b[0m     \u001b[0;32mdef\u001b[0m \u001b[0m__reduce__\u001b[0m\u001b[0;34m(\u001b[0m\u001b[0mself\u001b[0m\u001b[0;34m)\u001b[0m\u001b[0;34m:\u001b[0m\u001b[0;34m\u001b[0m\u001b[0;34m\u001b[0m\u001b[0m\n",
            "\u001b[0;31mKeyboardInterrupt\u001b[0m: "
          ]
        }
      ],
      "source": [
        "%cd /\n",
        "!git clone https://github.com/AI4Finance-Foundation/FinRL-Meta\n",
        "%cd /FinRL-Meta/\n",
        "!pip install git+https://github.com/AI4Finance-Foundation/ElegantRL.git\n",
        "!pip install wrds\n",
        "!pip install swig\n",
        "!pip install -q condacolab\n",
        "import condacolab\n",
        "condacolab.install()\n",
        "!apt-get update -y -qq && apt-get install -y -qq cmake libopenmpi-dev python3-dev zlib1g-dev libgl1-mesa-glx swig\n",
        "!pip install git+https://github.com/AI4Finance-Foundation/FinRL.git\n",
        "!pip install yfinance stockstats\n",
        "!pip install alpaca_trade_api\n",
        "!pip install ray[default]\n",
        "!pip install lz4\n",
        "!pip install ray[tune]\n",
        "!pip install tensorboardX\n",
        "!pip install gputil\n",
        "!pip install trading_calendars\n",
        "!pip install wrds\n",
        "!pip install rqdatac\n",
        "!pip install sqlalchemy==1.2.19\n",
        "!pip install tushare\n",
        "#install talib\n",
        "!wget http://prdownloads.sourceforge.net/ta-lib/ta-lib-0.4.0-src.tar.gz\n",
        "!tar xvzf ta-lib-0.4.0-src.tar.gz\n",
        "import os\n",
        "os.chdir('ta-lib')\n",
        "!./configure --prefix=/usr\n",
        "!make\n",
        "!make install\n",
        "os.chdir('../')\n",
        "!pip install TA-Lib\n",
        "!pip install baostock\n",
        "!pip install quandl"
      ]
    },
    {
      "cell_type": "markdown",
      "metadata": {
        "id": "vpUwP86TF9LE"
      },
      "source": [
        "## Import Related Packages"
      ]
    },
    {
      "cell_type": "code",
      "execution_count": null,
      "metadata": {
        "colab": {
          "base_uri": "https://localhost:8080/"
        },
        "id": "S3W6tDA_FFGA",
        "outputId": "b30d037e-aa66-4f4e-b9ba-a194f103a16f",
        "pycharm": {
          "is_executing": true
        }
      },
      "outputs": [
        {
          "name": "stdout",
          "output_type": "stream",
          "text": [
            "/FinRL-Meta\n"
          ]
        }
      ],
      "source": [
        "%cd /FinRL-Meta/\n",
        "from meta.env_crypto_trading.env_multiple_crypto import CryptoEnv"
      ]
    },
    {
      "cell_type": "markdown",
      "metadata": {
        "id": "lSDuv3R9H6Y5"
      },
      "source": [
        "## Functions for Training and Testing"
      ]
    },
    {
      "cell_type": "code",
      "execution_count": null,
      "metadata": {
        "id": "3u8KdIcwH59J",
        "pycharm": {
          "is_executing": true
        }
      },
      "outputs": [],
      "source": [
        "from agents.elegantrl_models import DRLAgent as DRLAgent_erl\n",
        "from agents.rllib_models import DRLAgent as DRLAgent_rllib\n",
        "from agents.stablebaselines3_models import DRLAgent as DRLAgent_sb3\n",
        "from meta.data_processor import DataProcessor\n",
        "\n",
        "def train(start_date, end_date, ticker_list, data_source, time_interval,\n",
        "          technical_indicator_list, drl_lib, env, model_name, if_vix=True,\n",
        "          **kwargs):\n",
        "\n",
        "    #process data using unified data processor\n",
        "    DP = DataProcessor(data_source, start_date, end_date, time_interval, **kwargs)\n",
        "    price_array, tech_array, turbulence_array = DP.run(ticker_list,\n",
        "                                                        technical_indicator_list,\n",
        "                                                        if_vix, cache=True)\n",
        "\n",
        "    data_config = {'price_array': price_array,\n",
        "                   'tech_array': tech_array,\n",
        "                   'turbulence_array': turbulence_array}\n",
        "\n",
        "    #build environment using processed data\n",
        "    env_instance = env(config=data_config)\n",
        "\n",
        "    #read parameters and load agents\n",
        "    current_working_dir = kwargs.get('current_working_dir','./'+str(model_name))\n",
        "\n",
        "    if drl_lib == 'elegantrl':\n",
        "        break_step = kwargs.get('break_step', 1e6)\n",
        "        erl_params = kwargs.get('erl_params')\n",
        "\n",
        "        agent = DRLAgent_erl(env = env,\n",
        "                             price_array = price_array,\n",
        "                             tech_array=tech_array,\n",
        "                             turbulence_array=turbulence_array)\n",
        "\n",
        "        model = agent.get_model(model_name, model_kwargs = erl_params)\n",
        "\n",
        "        trained_model = agent.train_model(model=model,\n",
        "                                          cwd=current_working_dir,\n",
        "                                          total_timesteps=break_step)\n",
        "\n",
        "\n",
        "    elif drl_lib == 'rllib':\n",
        "        total_episodes = kwargs.get('total_episodes', 100)\n",
        "        rllib_params = kwargs.get('rllib_params')\n",
        "\n",
        "        agent_rllib = DRLAgent_rllib(env = env,\n",
        "                       price_array=price_array,\n",
        "                       tech_array=tech_array,\n",
        "                       turbulence_array=turbulence_array)\n",
        "\n",
        "        model,model_config = agent_rllib.get_model(model_name)\n",
        "\n",
        "        model_config['lr'] = rllib_params['lr']\n",
        "        model_config['train_batch_size'] = rllib_params['train_batch_size']\n",
        "        model_config['gamma'] = rllib_params['gamma']\n",
        "\n",
        "        trained_model = agent_rllib.train_model(model=model,\n",
        "                                          model_name=model_name,\n",
        "                                          model_config=model_config,\n",
        "                                          total_episodes=total_episodes)\n",
        "        trained_model.save(current_working_dir)\n",
        "\n",
        "\n",
        "    elif drl_lib == 'stable_baselines3':\n",
        "        total_timesteps = kwargs.get('total_timesteps', 1e6)\n",
        "        agent_params = kwargs.get('agent_params')\n",
        "\n",
        "        agent = DRLAgent_sb3(env = env_instance)\n",
        "\n",
        "        model = agent.get_model(model_name, model_kwargs = agent_params)\n",
        "        trained_model = agent.train_model(model=model,\n",
        "                                tb_log_name=model_name,\n",
        "                                total_timesteps=total_timesteps)\n",
        "        print('Training finished!')\n",
        "        trained_model.save(current_working_dir)\n",
        "        print('Trained model saved in ' + str(current_working_dir))\n",
        "    else:\n",
        "        raise ValueError('DRL library input is NOT supported. Please check.')"
      ]
    },
    {
      "cell_type": "code",
      "execution_count": null,
      "metadata": {
        "id": "j4sKCkoAIegn",
        "pycharm": {
          "is_executing": true
        }
      },
      "outputs": [],
      "source": [
        "# import DRL agents\n",
        "from agents.stablebaselines3_models import DRLAgent as DRLAgent_sb3\n",
        "from agents.rllib_models import DRLAgent as DRLAgent_rllib\n",
        "from agents.elegantrl_models import DRLAgent as DRLAgent_erl\n",
        "\n",
        "# import data processor\n",
        "from meta.data_processor import DataProcessor\n",
        "\n",
        "def test(start_date, end_date, ticker_list, data_source, time_interval,\n",
        "            technical_indicator_list, drl_lib, env, model_name, if_vix=True,\n",
        "            **kwargs):\n",
        "\n",
        "    #process data using unified data processor\n",
        "    DP = DataProcessor(data_source, start_date, end_date, time_interval, **kwargs)\n",
        "    price_array, tech_array, turbulence_array = DP.run(ticker_list,\n",
        "                                                        technical_indicator_list,\n",
        "                                                        if_vix, cache=True)\n",
        "\n",
        "\n",
        "    np.save('./price_array.npy', price_array)\n",
        "    data_config = {'price_array':price_array,\n",
        "                   'tech_array':tech_array,\n",
        "                   'turbulence_array':turbulence_array}\n",
        "    #build environment using processed data\n",
        "    env_instance = env(config=data_config)\n",
        "\n",
        "    env_config = {\n",
        "        \"price_array\": price_array,\n",
        "        \"tech_array\": tech_array,\n",
        "        \"turbulence_array\": turbulence_array,\n",
        "        \"if_train\": False,\n",
        "    }\n",
        "    env_instance = env(config=env_config)\n",
        "\n",
        "    # load elegantrl needs state dim, action dim and net dim\n",
        "    net_dimension = kwargs.get(\"net_dimension\", 2 ** 7)\n",
        "    current_working_dir = kwargs.get(\"current_working_dir\", \"./\" + str(model_name))\n",
        "    print(\"price_array: \", len(price_array))\n",
        "\n",
        "    if drl_lib == \"elegantrl\":\n",
        "        episode_total_assets = DRLAgent_erl.DRL_prediction(\n",
        "            model_name=model_name,\n",
        "            cwd=current_working_dir,\n",
        "            net_dimension=net_dimension,\n",
        "            environment=env_instance,\n",
        "        )\n",
        "\n",
        "        return episode_total_assets\n",
        "\n",
        "    elif drl_lib == \"rllib\":\n",
        "        # load agent\n",
        "        episode_total_assets = DRLAgent_rllib.DRL_prediction(\n",
        "            model_name=model_name,\n",
        "            env=env,\n",
        "            price_array=price_array,\n",
        "            tech_array=tech_array,\n",
        "            turbulence_array=turbulence_array,\n",
        "            agent_path=current_working_dir,\n",
        "        )\n",
        "\n",
        "        return episode_total_assets\n",
        "\n",
        "    elif drl_lib == \"stable_baselines3\":\n",
        "        episode_total_assets = DRLAgent_sb3.DRL_prediction_load_from_file(\n",
        "            model_name=model_name, environment=env_instance, cwd=current_working_dir\n",
        "        )\n",
        "\n",
        "        return episode_total_assets\n",
        "    else:\n",
        "        raise ValueError(\"DRL library input is NOT supported. Please check.\")\n"
      ]
    },
    {
      "cell_type": "markdown",
      "metadata": {
        "id": "TWLiSsz3Imqf"
      },
      "source": [
        "## Multiple Cryptocurrencies Trading Env"
      ]
    },
    {
      "cell_type": "code",
      "execution_count": null,
      "metadata": {
        "id": "UUTc4dhRIraO"
      },
      "outputs": [],
      "source": [
        "import numpy as np\n",
        "import math\n",
        "\n",
        "class CryptoEnv:  # custom env\n",
        "    def __init__(self, config, lookback=1, initial_capital=1e6,\n",
        "                 buy_cost_pct=1e-3, sell_cost_pct=1e-3, gamma=0.99):\n",
        "        self.lookback = lookback\n",
        "        self.initial_total_asset = initial_capital\n",
        "        self.initial_cash = initial_capital\n",
        "        self.buy_cost_pct = buy_cost_pct\n",
        "        self.sell_cost_pct = sell_cost_pct\n",
        "        self.max_stock = 1\n",
        "        self.gamma = gamma\n",
        "        self.price_array = config['price_array']\n",
        "        self.tech_array = config['tech_array']\n",
        "        self._generate_action_normalizer()\n",
        "        self.crypto_num = self.price_array.shape[1]\n",
        "        self.max_step = self.price_array.shape[0] - lookback - 1\n",
        "\n",
        "        # reset\n",
        "        self.time = lookback-1\n",
        "        self.cash = self.initial_cash\n",
        "        self.current_price = self.price_array[self.time]\n",
        "        self.current_tech = self.tech_array[self.time]\n",
        "        self.stocks = np.zeros(self.crypto_num, dtype=np.float32)\n",
        "\n",
        "        self.total_asset = self.cash + (self.stocks * self.price_array[self.time]).sum()\n",
        "        self.episode_return = 0.0\n",
        "        self.gamma_return = 0.0\n",
        "\n",
        "\n",
        "        '''env information'''\n",
        "        self.env_name = 'MulticryptoEnv'\n",
        "        self.state_dim = 1 + (self.price_array.shape[1] + self.tech_array.shape[1])*lookback\n",
        "        self.action_dim = self.price_array.shape[1]\n",
        "        self.if_discrete = False\n",
        "        self.target_return = 10\n",
        "\n",
        "\n",
        "    def reset(self) -> np.ndarray:\n",
        "        self.time = self.lookback-1\n",
        "        self.current_price = self.price_array[self.time]\n",
        "        self.current_tech = self.tech_array[self.time]\n",
        "        self.cash = self.initial_cash  # reset()\n",
        "        self.stocks = np.zeros(self.crypto_num, dtype=np.float32)\n",
        "        self.total_asset = self.cash + (self.stocks * self.price_array[self.time]).sum()\n",
        "\n",
        "        state = self.get_state()\n",
        "        return state\n",
        "\n",
        "    def step(self, actions) -> (np.ndarray, float, bool, None):\n",
        "        self.time += 1\n",
        "\n",
        "        price = self.price_array[self.time]\n",
        "        for i in range(self.action_dim):\n",
        "            norm_vector_i = self.action_norm_vector[i]\n",
        "            actions[i] = actions[i] * norm_vector_i\n",
        "\n",
        "        for index in np.where(actions < 0)[0]:  # sell_index:\n",
        "            if price[index] > 0:  # Sell only if current asset is > 0\n",
        "                sell_num_shares = min(self.stocks[index], -actions[index])\n",
        "                self.stocks[index] -= sell_num_shares\n",
        "                self.cash += price[index] * sell_num_shares * (1 - self.sell_cost_pct)\n",
        "\n",
        "        for index in np.where(actions > 0)[0]:  # buy_index:\n",
        "            if price[index] > 0:  # Buy only if the price is > 0 (no missing data in this particular date)\n",
        "                buy_num_shares = min(self.cash // price[index], actions[index])\n",
        "                self.stocks[index] += buy_num_shares\n",
        "                self.cash -= price[index] * buy_num_shares * (1 + self.buy_cost_pct)\n",
        "\n",
        "        \"\"\"update time\"\"\"\n",
        "        done = self.time == self.max_step\n",
        "        state = self.get_state()\n",
        "        next_total_asset = self.cash + (self.stocks * self.price_array[self.time]).sum()\n",
        "        reward = (next_total_asset - self.total_asset) * 2 ** -16\n",
        "        self.total_asset = next_total_asset\n",
        "        self.gamma_return = self.gamma_return * self.gamma + reward\n",
        "        self.cumu_return = self.total_asset / self.initial_cash\n",
        "        if done:\n",
        "            reward = self.gamma_return\n",
        "            self.episode_return = self.total_asset / self.initial_cash\n",
        "        return state, reward, done, None\n",
        "\n",
        "    def get_state(self):\n",
        "        state =  np.hstack((self.cash * 2 ** -18, self.stocks * 2 ** -3))\n",
        "        for i in range(self.lookback):\n",
        "            tech_i = self.tech_array[self.time-i]\n",
        "            normalized_tech_i = tech_i * 2 ** -15\n",
        "            state = np.hstack((state, normalized_tech_i)).astype(np.float32)\n",
        "        return state\n",
        "\n",
        "    def close(self):\n",
        "        pass\n",
        "\n",
        "    def _generate_action_normalizer(self):\n",
        "        action_norm_vector = []\n",
        "        price_0 = self.price_array[0]\n",
        "        for price in price_0:\n",
        "            x = math.floor(math.log(price, 10)) #the order of magnitude\n",
        "            action_norm_vector.append(1/((10)**x))\n",
        "\n",
        "        action_norm_vector = np.asarray(action_norm_vector) * 10000\n",
        "        self.action_norm_vector = np.asarray(action_norm_vector)\n",
        ""
      ]
    },
    {
      "cell_type": "markdown",
      "metadata": {
        "id": "C8YsfqhOGBaf"
      },
      "source": [
        "## Set Parameters"
      ]
    },
    {
      "cell_type": "code",
      "execution_count": null,
      "metadata": {
        "id": "m2uDrp5uFM3t"
      },
      "outputs": [],
      "source": [
        "TICKER_LIST = ['BTCUSDT','ETHUSDT','ADAUSDT','BNBUSDT','XRPUSDT',\n",
        "                'SOLUSDT','DOTUSDT', 'DOGEUSDT','AVAXUSDT','UNIUSDT']\n",
        "env = CryptoEnv\n",
        "TRAIN_START_DATE = '2021-09-01'\n",
        "TRAIN_END_DATE = '2021-09-02'\n",
        "\n",
        "TEST_START_DATE = '2021-09-21'\n",
        "TEST_END_DATE = '2021-09-30'\n",
        "\n",
        "INDICATORS = ['macd', 'rsi', 'cci', 'dx'] #self-defined technical indicator list is NOT supported yet\n",
        "\n",
        "ERL_PARAMS = {\"learning_rate\": 2**-15,\"batch_size\": 2**11,\n",
        "                \"gamma\": 0.99, \"seed\":312,\"net_dimension\": 2**9,\n",
        "                \"target_step\": 5000, \"eval_gap\": 30, \"eval_times\": 1}"
      ]
    },
    {
      "cell_type": "markdown",
      "metadata": {
        "id": "NFar1DpfGFvP"
      },
      "source": [
        "## Training"
      ]
    },
    {
      "cell_type": "code",
      "execution_count": null,
      "metadata": {
        "colab": {
          "base_uri": "https://localhost:8080/",
          "height": 507
        },
        "id": "Hwt2kM5pFPiK",
        "outputId": "455ab5e8-e781-4a63-abf9-640961c0ecc6"
      },
      "outputs": [
        {
          "name": "stdout",
          "output_type": "stream",
          "text": [
            "binance successfully connected\n",
            "tech_indicator_list:  ['macd', 'rsi', 'cci', 'dx']\n",
            "indicator:  macd\n",
            "indicator:  rsi\n",
            "indicator:  cci\n",
            "indicator:  dx\n",
            "Succesfully add technical indicators\n",
            "Successfully transformed into array\n"
          ]
        },
        {
          "ename": "TypeError",
          "evalue": "ignored",
          "output_type": "error",
          "traceback": [
            "\u001b[0;31m---------------------------------------------------------------------------\u001b[0m",
            "\u001b[0;31mTypeError\u001b[0m                                 Traceback (most recent call last)",
            "\u001b[0;32m<ipython-input-9-c3f95f8e0ccd>\u001b[0m in \u001b[0;36m<module>\u001b[0;34m()\u001b[0m\n\u001b[1;32m     11\u001b[0m       \u001b[0merl_params\u001b[0m\u001b[0;34m=\u001b[0m\u001b[0mERL_PARAMS\u001b[0m\u001b[0;34m,\u001b[0m\u001b[0;34m\u001b[0m\u001b[0;34m\u001b[0m\u001b[0m\n\u001b[1;32m     12\u001b[0m       \u001b[0mbreak_step\u001b[0m\u001b[0;34m=\u001b[0m\u001b[0;36m5e4\u001b[0m\u001b[0;34m,\u001b[0m\u001b[0;34m\u001b[0m\u001b[0;34m\u001b[0m\u001b[0m\n\u001b[0;32m---> 13\u001b[0;31m       \u001b[0mif_vix\u001b[0m\u001b[0;34m=\u001b[0m\u001b[0;32mFalse\u001b[0m\u001b[0;34m\u001b[0m\u001b[0;34m\u001b[0m\u001b[0m\n\u001b[0m\u001b[1;32m     14\u001b[0m       )\n",
            "\u001b[0;32m<ipython-input-4-c2f4f1f1ce9a>\u001b[0m in \u001b[0;36mtrain\u001b[0;34m(start_date, end_date, ticker_list, data_source, time_interval, technical_indicator_list, drl_lib, env, model_name, if_vix, **kwargs)\u001b[0m\n\u001b[1;32m     33\u001b[0m                              turbulence_array=turbulence_array)\n\u001b[1;32m     34\u001b[0m \u001b[0;34m\u001b[0m\u001b[0m\n\u001b[0;32m---> 35\u001b[0;31m         \u001b[0mmodel\u001b[0m \u001b[0;34m=\u001b[0m \u001b[0magent\u001b[0m\u001b[0;34m.\u001b[0m\u001b[0mget_model\u001b[0m\u001b[0;34m(\u001b[0m\u001b[0mmodel_name\u001b[0m\u001b[0;34m,\u001b[0m \u001b[0mmodel_kwargs\u001b[0m \u001b[0;34m=\u001b[0m \u001b[0merl_params\u001b[0m\u001b[0;34m)\u001b[0m\u001b[0;34m\u001b[0m\u001b[0;34m\u001b[0m\u001b[0m\n\u001b[0m\u001b[1;32m     36\u001b[0m \u001b[0;34m\u001b[0m\u001b[0m\n\u001b[1;32m     37\u001b[0m         trained_model = agent.train_model(model=model, \n",
            "\u001b[0;32m/FinRL-Meta/agents/elegantrl_models.py\u001b[0m in \u001b[0;36mget_model\u001b[0;34m(self, model_name, model_kwargs)\u001b[0m\n\u001b[1;32m     56\u001b[0m         \u001b[0;32mif\u001b[0m \u001b[0mmodel_name\u001b[0m \u001b[0;32mnot\u001b[0m \u001b[0;32min\u001b[0m \u001b[0mMODELS\u001b[0m\u001b[0;34m:\u001b[0m\u001b[0;34m\u001b[0m\u001b[0;34m\u001b[0m\u001b[0m\n\u001b[1;32m     57\u001b[0m             \u001b[0;32mraise\u001b[0m \u001b[0mNotImplementedError\u001b[0m\u001b[0;34m(\u001b[0m\u001b[0;34m\"NotImplementedError\"\u001b[0m\u001b[0;34m)\u001b[0m\u001b[0;34m\u001b[0m\u001b[0;34m\u001b[0m\u001b[0m\n\u001b[0;32m---> 58\u001b[0;31m         \u001b[0mmodel\u001b[0m \u001b[0;34m=\u001b[0m \u001b[0mArguments\u001b[0m\u001b[0;34m(\u001b[0m\u001b[0magent\u001b[0m\u001b[0;34m=\u001b[0m\u001b[0magent\u001b[0m\u001b[0;34m,\u001b[0m \u001b[0menv\u001b[0m\u001b[0;34m=\u001b[0m\u001b[0menv\u001b[0m\u001b[0;34m)\u001b[0m\u001b[0;34m\u001b[0m\u001b[0;34m\u001b[0m\u001b[0m\n\u001b[0m\u001b[1;32m     59\u001b[0m         \u001b[0mmodel\u001b[0m\u001b[0;34m.\u001b[0m\u001b[0mif_off_policy\u001b[0m \u001b[0;34m=\u001b[0m \u001b[0mmodel_name\u001b[0m \u001b[0;32min\u001b[0m \u001b[0mOFF_POLICY_MODELS\u001b[0m\u001b[0;34m\u001b[0m\u001b[0;34m\u001b[0m\u001b[0m\n\u001b[1;32m     60\u001b[0m         \u001b[0;32mif\u001b[0m \u001b[0mmodel_kwargs\u001b[0m \u001b[0;32mis\u001b[0m \u001b[0;32mnot\u001b[0m \u001b[0;32mNone\u001b[0m\u001b[0;34m:\u001b[0m\u001b[0;34m\u001b[0m\u001b[0;34m\u001b[0m\u001b[0m\n",
            "\u001b[0;31mTypeError\u001b[0m: __init__() got an unexpected keyword argument 'agent'"
          ]
        }
      ],
      "source": [
        "train(start_date=TRAIN_START_DATE,\n",
        "      end_date=TRAIN_END_DATE,\n",
        "      ticker_list=TICKER_LIST,\n",
        "      data_source='binance',\n",
        "      time_interval='5m',\n",
        "      technical_indicator_list=INDICATORS,\n",
        "      drl_lib='elegantrl',\n",
        "      env=env,\n",
        "      model_name='ppo',\n",
        "      current_working_dir='./test_ppo',\n",
        "      erl_params=ERL_PARAMS,\n",
        "      break_step=5e4,\n",
        "      if_vix=False\n",
        "      )"
      ]
    },
    {
      "cell_type": "markdown",
      "metadata": {
        "id": "6y7bIQdkGLLU"
      },
      "source": [
        "## Testing"
      ]
    },
    {
      "cell_type": "code",
      "execution_count": null,
      "metadata": {
        "id": "44EXeZglFS8d"
      },
      "outputs": [],
      "source": [
        "account_value_erl = test(start_date = TEST_START_DATE,\n",
        "                        end_date = TEST_END_DATE,\n",
        "                        ticker_list = TICKER_LIST,\n",
        "                        data_source = 'binance',\n",
        "                        time_interval= '5m',\n",
        "                        technical_indicator_list= INDICATORS,\n",
        "                        drl_lib='elegantrl',\n",
        "                        env=env,\n",
        "                        model_name='ppo',\n",
        "                        current_working_dir='./test_ppo',\n",
        "                        net_dimension = 2**9,\n",
        "                        if_vix=False\n",
        "                        )"
      ]
    },
    {
      "cell_type": "markdown",
      "metadata": {
        "id": "TSQ8YMCZGN1H"
      },
      "source": [
        "## Plotting"
      ]
    },
    {
      "cell_type": "code",
      "execution_count": null,
      "metadata": {
        "id": "fInPrpp6QoKK"
      },
      "outputs": [],
      "source": [
        "import matplotlib.pyplot as plt\n",
        "import matplotlib.ticker as ticker\n",
        "import matplotlib.dates as mdates\n",
        "%matplotlib inline\n",
        "#calculate agent returns\n",
        "account_value_erl = np.array(account_value_erl)\n",
        "agent_returns = account_value_erl/account_value_erl[0]\n",
        "#calculate buy-and-hold btc returns\n",
        "price_array = np.load('./price_array.npy')\n",
        "btc_prices = price_array[:,0]\n",
        "buy_hold_btc_returns = btc_prices/btc_prices[0]\n",
        "#calculate equal weight portfolio returns\n",
        "price_array = np.load('./price_array.npy')\n",
        "initial_prices = price_array[0,:]\n",
        "equal_weight = np.array([1e5/initial_prices[i] for i in range(len(TICKER_LIST))])\n",
        "equal_weight_values = []\n",
        "for i in range(0, price_array.shape[0]):\n",
        "    equal_weight_values.append(np.sum(equal_weight * price_array[i]))\n",
        "equal_weight_values = np.array(equal_weight_values)\n",
        "equal_returns = equal_weight_values/equal_weight_values[0]\n",
        "#plot\n",
        "plt.figure(dpi=200)\n",
        "plt.grid()\n",
        "plt.grid(which='minor', axis='y')\n",
        "plt.title('Cryptocurrency Trading ', fontsize=20)\n",
        "plt.plot(agent_returns, label='ElegantRL Agent', color = 'red')\n",
        "plt.plot(buy_hold_btc_returns, label='Buy-and-Hold BTC', color='blue')\n",
        "plt.plot(equal_returns, label='Equal Weight Portfolio', color='green')\n",
        "plt.ylabel('Return', fontsize=16)\n",
        "plt.xlabel('Times (5min)', fontsize=16)\n",
        "plt.xticks(size=14)\n",
        "plt.yticks(size=14)\n",
        "'''ax = plt.gca()\n",
        "ax.xaxis.set_major_locator(ticker.MultipleLocator(210))\n",
        "ax.xaxis.set_minor_locator(ticker.MultipleLocator(21))\n",
        "ax.yaxis.set_minor_locator(ticker.MultipleLocator(0.005))\n",
        "ax.yaxis.set_major_formatter(ticker.PercentFormatter(xmax=1, decimals=2))\n",
        "ax.xaxis.set_major_formatter(ticker.FixedFormatter([]))'''\n",
        "plt.legend(fontsize=10.5)"
      ]
    },
    {
      "cell_type": "code",
      "execution_count": null,
      "metadata": {
        "id": "UuI8e3JK08Iw"
      },
      "outputs": [],
      "source": []
    }
  ],
  "metadata": {
    "accelerator": "GPU",
    "colab": {
      "name": "Copy of Demo_MultiCrypto_Trading.ipynb",
      "provenance": []
    },
    "interpreter": {
      "hash": "28691883d40527565c3f74e1f87454592f1d4260e8ac485ad8f512df4feb8e2a"
    },
    "kernelspec": {
      "display_name": "Python 3 (ipykernel)",
      "language": "python",
      "name": "python3"
    },
    "language_info": {
      "codemirror_mode": {
        "name": "ipython",
        "version": 3
      },
      "file_extension": ".py",
      "mimetype": "text/x-python",
      "name": "python",
      "nbconvert_exporter": "python",
      "pygments_lexer": "ipython3",
      "version": "3.9.12"
    }
  },
  "nbformat": 4,
  "nbformat_minor": 0
}